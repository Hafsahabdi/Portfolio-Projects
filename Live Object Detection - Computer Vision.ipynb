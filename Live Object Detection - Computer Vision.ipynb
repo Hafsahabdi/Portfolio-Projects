{
 "cells": [
  {
   "cell_type": "code",
   "execution_count": 1,
   "id": "34c09f13",
   "metadata": {},
   "outputs": [],
   "source": [
    "import cv2\n",
    "import cvlib as cv\n",
    "from cvlib.object_detection import draw_bbox"
   ]
  },
  {
   "cell_type": "code",
   "execution_count": null,
   "id": "c4984cb5",
   "metadata": {},
   "outputs": [],
   "source": [
    "# Starting Camera\n",
    "cap = cv2.VideoCapture(0)\n",
    "\n",
    "while True:\n",
    "    # read frames\n",
    "    ret, frame = cap.read()\n",
    "\n",
    "    # Object Detection\n",
    "    bbox, label, conf = cv.detect_common_objects(frame, confidence=0.5, model='yolov4')\n",
    "\n",
    "    # Drow frame around objects\n",
    "    output = draw_bbox(frame, bbox, label, conf)\n",
    "\n",
    "    # show window\n",
    "    cv2.imshow('Object Detection', output)\n",
    "\n",
    "    # q quit\n",
    "    if cv2.waitKey(1) & 0xFF == ord('q'):\n",
    "        break\n",
    "\n",
    "# clear screen\n",
    "cap.release()\n",
    "cv2.destroyAllWindow"
   ]
  },
  {
   "cell_type": "code",
   "execution_count": null,
   "id": "e7e87172",
   "metadata": {},
   "outputs": [],
   "source": []
  }
 ],
 "metadata": {
  "kernelspec": {
   "display_name": "Python 3 (ipykernel)",
   "language": "python",
   "name": "python3"
  },
  "language_info": {
   "codemirror_mode": {
    "name": "ipython",
    "version": 3
   },
   "file_extension": ".py",
   "mimetype": "text/x-python",
   "name": "python",
   "nbconvert_exporter": "python",
   "pygments_lexer": "ipython3",
   "version": "3.9.13"
  }
 },
 "nbformat": 4,
 "nbformat_minor": 5
}
